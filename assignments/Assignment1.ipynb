{
  "nbformat": 4,
  "nbformat_minor": 0,
  "metadata": {
    "colab": {
      "provenance": []
    },
    "kernelspec": {
      "name": "python3",
      "display_name": "Python 3"
    },
    "language_info": {
      "name": "python"
    }
  },
  "cells": [
    {
      "cell_type": "markdown",
      "source": [
        "## Assignment 1: Bayesian Decision Theory and Parametric Estimation"
      ],
      "metadata": {
        "id": "3MW1FAwss5Vb"
      }
    },
    {
      "cell_type": "markdown",
      "source": [
        "- [ ] I. Loading the data and building a Gaussian Classifier\n",
        "  - [x] a) Loading the Abalon Dataset. Ignoring the sex label and compute `rings_hat` which is the average value of rings of the whole data set\n",
        "  - [x] b) Load the data as two numpy arrays `X` attributes and `y` labels\n",
        "  - [x] c) Split the data set in training and validation\n",
        "  - [ ] d) Build a Gaussian Classifier for each attribute.\n",
        "    - [ ] Record parameters (I think those are mean and variance)\n",
        "    - [ ] Accuracy, Precision & Recall\n",
        "    - [ ] Which classifier is best\n",
        "    - [ ] Draw curves for posterior distribution. Show decision boundary\n",
        "- [ ] II. Bivariate models and ROC \n",
        "  - [ ] For each pair of features, create a bivariate Gaussian Classifier. The parameter of each of these models will be, the mean of the features BUT the covariance matrix will be of all of the classes.\n",
        "  - [ ] For each combination, estimate the parameters to make predictions. Report results\n",
        "  - [ ] Draw ROC curves for model of Q1 and these Q2 models\n",
        "- [ ] III. Discriminant Functions & Regions\n",
        "  - [ ] For the best model in Q2 draw regions\n",
        "  - [ ] Calculate the decision boundary of the regions: Equation!\n",
        "- [ ] IV. Regions for the best\n",
        "  - [ ] For the best bivariate model in Q2 change the covariance matrix by a random one (could be different for each class *i dont quite understand this part*)\n",
        "  - [ ] Draw regions\n",
        "  - [ ] Add a rejection region \n",
        "\n"
      ],
      "metadata": {
        "id": "ojEV3CkUtL0P"
      }
    },
    {
      "cell_type": "markdown",
      "source": [
        "## Como trabajar\n",
        "Total: 28 modelos. 7 univariados y 21 bivariados.\n",
        "14 modelos por grupo\n",
        "### Univariados\n",
        "- Length \n",
        "- Diameter\n",
        "- Height\n",
        "- Whole weight\n",
        "- Shucked weight\n",
        "- Viscera weight\n",
        "- Shell weight\n"
      ],
      "metadata": {
        "id": "MJ6T7BncFZj6"
      }
    },
    {
      "cell_type": "code",
      "execution_count": 2,
      "metadata": {
        "id": "N_4E-M7er7k0"
      },
      "outputs": [],
      "source": [
        "import pandas as pd\n",
        "import numpy as np\n",
        "from math import floor\n",
        "from sklearn import model_selection\n",
        "from sklearn.naive_bayes import GaussianNB"
      ]
    },
    {
      "cell_type": "code",
      "source": [
        "df_features = pd.read_csv(\"https://archive.ics.uci.edu/ml/machine-learning-databases/abalone/abalone.data\", \n",
        "                 names=[\"Sex\",\"Length\",\"Diameter\",\"Height\",\"Whole weight\",\"Shucked weight\",\"Viscera weight\",\"Shell weight\",\"Rings\"])\n"
      ],
      "metadata": {
        "id": "wv91cx4K7LNZ"
      },
      "execution_count": 3,
      "outputs": []
    },
    {
      "cell_type": "code",
      "source": [
        "df_features.drop(columns=[\"Sex\"], inplace=True)\n",
        "df_features.head()"
      ],
      "metadata": {
        "colab": {
          "base_uri": "https://localhost:8080/",
          "height": 206
        },
        "id": "1WAXYnOA7QRs",
        "outputId": "a9feea11-f68c-4666-ba95-9b9b8b3d2820"
      },
      "execution_count": 4,
      "outputs": [
        {
          "output_type": "execute_result",
          "data": {
            "text/plain": [
              "   Length  Diameter  Height  Whole weight  Shucked weight  Viscera weight  \\\n",
              "0   0.455     0.365   0.095        0.5140          0.2245          0.1010   \n",
              "1   0.350     0.265   0.090        0.2255          0.0995          0.0485   \n",
              "2   0.530     0.420   0.135        0.6770          0.2565          0.1415   \n",
              "3   0.440     0.365   0.125        0.5160          0.2155          0.1140   \n",
              "4   0.330     0.255   0.080        0.2050          0.0895          0.0395   \n",
              "\n",
              "   Shell weight  Rings  \n",
              "0         0.150     15  \n",
              "1         0.070      7  \n",
              "2         0.210      9  \n",
              "3         0.155     10  \n",
              "4         0.055      7  "
            ],
            "text/html": [
              "\n",
              "  <div id=\"df-1b0d7f49-6bc0-413e-8b20-ac19c4df67e0\">\n",
              "    <div class=\"colab-df-container\">\n",
              "      <div>\n",
              "<style scoped>\n",
              "    .dataframe tbody tr th:only-of-type {\n",
              "        vertical-align: middle;\n",
              "    }\n",
              "\n",
              "    .dataframe tbody tr th {\n",
              "        vertical-align: top;\n",
              "    }\n",
              "\n",
              "    .dataframe thead th {\n",
              "        text-align: right;\n",
              "    }\n",
              "</style>\n",
              "<table border=\"1\" class=\"dataframe\">\n",
              "  <thead>\n",
              "    <tr style=\"text-align: right;\">\n",
              "      <th></th>\n",
              "      <th>Length</th>\n",
              "      <th>Diameter</th>\n",
              "      <th>Height</th>\n",
              "      <th>Whole weight</th>\n",
              "      <th>Shucked weight</th>\n",
              "      <th>Viscera weight</th>\n",
              "      <th>Shell weight</th>\n",
              "      <th>Rings</th>\n",
              "    </tr>\n",
              "  </thead>\n",
              "  <tbody>\n",
              "    <tr>\n",
              "      <th>0</th>\n",
              "      <td>0.455</td>\n",
              "      <td>0.365</td>\n",
              "      <td>0.095</td>\n",
              "      <td>0.5140</td>\n",
              "      <td>0.2245</td>\n",
              "      <td>0.1010</td>\n",
              "      <td>0.150</td>\n",
              "      <td>15</td>\n",
              "    </tr>\n",
              "    <tr>\n",
              "      <th>1</th>\n",
              "      <td>0.350</td>\n",
              "      <td>0.265</td>\n",
              "      <td>0.090</td>\n",
              "      <td>0.2255</td>\n",
              "      <td>0.0995</td>\n",
              "      <td>0.0485</td>\n",
              "      <td>0.070</td>\n",
              "      <td>7</td>\n",
              "    </tr>\n",
              "    <tr>\n",
              "      <th>2</th>\n",
              "      <td>0.530</td>\n",
              "      <td>0.420</td>\n",
              "      <td>0.135</td>\n",
              "      <td>0.6770</td>\n",
              "      <td>0.2565</td>\n",
              "      <td>0.1415</td>\n",
              "      <td>0.210</td>\n",
              "      <td>9</td>\n",
              "    </tr>\n",
              "    <tr>\n",
              "      <th>3</th>\n",
              "      <td>0.440</td>\n",
              "      <td>0.365</td>\n",
              "      <td>0.125</td>\n",
              "      <td>0.5160</td>\n",
              "      <td>0.2155</td>\n",
              "      <td>0.1140</td>\n",
              "      <td>0.155</td>\n",
              "      <td>10</td>\n",
              "    </tr>\n",
              "    <tr>\n",
              "      <th>4</th>\n",
              "      <td>0.330</td>\n",
              "      <td>0.255</td>\n",
              "      <td>0.080</td>\n",
              "      <td>0.2050</td>\n",
              "      <td>0.0895</td>\n",
              "      <td>0.0395</td>\n",
              "      <td>0.055</td>\n",
              "      <td>7</td>\n",
              "    </tr>\n",
              "  </tbody>\n",
              "</table>\n",
              "</div>\n",
              "      <button class=\"colab-df-convert\" onclick=\"convertToInteractive('df-1b0d7f49-6bc0-413e-8b20-ac19c4df67e0')\"\n",
              "              title=\"Convert this dataframe to an interactive table.\"\n",
              "              style=\"display:none;\">\n",
              "        \n",
              "  <svg xmlns=\"http://www.w3.org/2000/svg\" height=\"24px\"viewBox=\"0 0 24 24\"\n",
              "       width=\"24px\">\n",
              "    <path d=\"M0 0h24v24H0V0z\" fill=\"none\"/>\n",
              "    <path d=\"M18.56 5.44l.94 2.06.94-2.06 2.06-.94-2.06-.94-.94-2.06-.94 2.06-2.06.94zm-11 1L8.5 8.5l.94-2.06 2.06-.94-2.06-.94L8.5 2.5l-.94 2.06-2.06.94zm10 10l.94 2.06.94-2.06 2.06-.94-2.06-.94-.94-2.06-.94 2.06-2.06.94z\"/><path d=\"M17.41 7.96l-1.37-1.37c-.4-.4-.92-.59-1.43-.59-.52 0-1.04.2-1.43.59L10.3 9.45l-7.72 7.72c-.78.78-.78 2.05 0 2.83L4 21.41c.39.39.9.59 1.41.59.51 0 1.02-.2 1.41-.59l7.78-7.78 2.81-2.81c.8-.78.8-2.07 0-2.86zM5.41 20L4 18.59l7.72-7.72 1.47 1.35L5.41 20z\"/>\n",
              "  </svg>\n",
              "      </button>\n",
              "      \n",
              "  <style>\n",
              "    .colab-df-container {\n",
              "      display:flex;\n",
              "      flex-wrap:wrap;\n",
              "      gap: 12px;\n",
              "    }\n",
              "\n",
              "    .colab-df-convert {\n",
              "      background-color: #E8F0FE;\n",
              "      border: none;\n",
              "      border-radius: 50%;\n",
              "      cursor: pointer;\n",
              "      display: none;\n",
              "      fill: #1967D2;\n",
              "      height: 32px;\n",
              "      padding: 0 0 0 0;\n",
              "      width: 32px;\n",
              "    }\n",
              "\n",
              "    .colab-df-convert:hover {\n",
              "      background-color: #E2EBFA;\n",
              "      box-shadow: 0px 1px 2px rgba(60, 64, 67, 0.3), 0px 1px 3px 1px rgba(60, 64, 67, 0.15);\n",
              "      fill: #174EA6;\n",
              "    }\n",
              "\n",
              "    [theme=dark] .colab-df-convert {\n",
              "      background-color: #3B4455;\n",
              "      fill: #D2E3FC;\n",
              "    }\n",
              "\n",
              "    [theme=dark] .colab-df-convert:hover {\n",
              "      background-color: #434B5C;\n",
              "      box-shadow: 0px 1px 3px 1px rgba(0, 0, 0, 0.15);\n",
              "      filter: drop-shadow(0px 1px 2px rgba(0, 0, 0, 0.3));\n",
              "      fill: #FFFFFF;\n",
              "    }\n",
              "  </style>\n",
              "\n",
              "      <script>\n",
              "        const buttonEl =\n",
              "          document.querySelector('#df-1b0d7f49-6bc0-413e-8b20-ac19c4df67e0 button.colab-df-convert');\n",
              "        buttonEl.style.display =\n",
              "          google.colab.kernel.accessAllowed ? 'block' : 'none';\n",
              "\n",
              "        async function convertToInteractive(key) {\n",
              "          const element = document.querySelector('#df-1b0d7f49-6bc0-413e-8b20-ac19c4df67e0');\n",
              "          const dataTable =\n",
              "            await google.colab.kernel.invokeFunction('convertToInteractive',\n",
              "                                                     [key], {});\n",
              "          if (!dataTable) return;\n",
              "\n",
              "          const docLinkHtml = 'Like what you see? Visit the ' +\n",
              "            '<a target=\"_blank\" href=https://colab.research.google.com/notebooks/data_table.ipynb>data table notebook</a>'\n",
              "            + ' to learn more about interactive tables.';\n",
              "          element.innerHTML = '';\n",
              "          dataTable['output_type'] = 'display_data';\n",
              "          await google.colab.output.renderOutput(dataTable, element);\n",
              "          const docLink = document.createElement('div');\n",
              "          docLink.innerHTML = docLinkHtml;\n",
              "          element.appendChild(docLink);\n",
              "        }\n",
              "      </script>\n",
              "    </div>\n",
              "  </div>\n",
              "  "
            ]
          },
          "metadata": {},
          "execution_count": 4
        }
      ]
    },
    {
      "cell_type": "code",
      "source": [
        "rings_hat= floor(df_features[\"Rings\"].mean())\n",
        "rings_hat"
      ],
      "metadata": {
        "colab": {
          "base_uri": "https://localhost:8080/"
        },
        "id": "JTQCWxda7RK4",
        "outputId": "1a9a5aaa-f4fd-4db8-fa78-fccd570f335d"
      },
      "execution_count": 5,
      "outputs": [
        {
          "output_type": "execute_result",
          "data": {
            "text/plain": [
              "9"
            ]
          },
          "metadata": {},
          "execution_count": 5
        }
      ]
    },
    {
      "cell_type": "code",
      "source": [
        "df_features[\"Rings\"] = np.where(df_features[\"Rings\"] >= rings_hat, 1, 0)"
      ],
      "metadata": {
        "id": "60lqU2DR_Yjq"
      },
      "execution_count": 6,
      "outputs": []
    },
    {
      "cell_type": "code",
      "source": [
        "X = df_features.drop(columns=[\"Rings\"]).to_numpy().astype('float')\n",
        "X"
      ],
      "metadata": {
        "colab": {
          "base_uri": "https://localhost:8080/"
        },
        "id": "gmY4xnV1781J",
        "outputId": "8df8b86f-6d77-4d3e-b7ab-12c4c0f30a21"
      },
      "execution_count": 7,
      "outputs": [
        {
          "output_type": "execute_result",
          "data": {
            "text/plain": [
              "array([[0.455 , 0.365 , 0.095 , ..., 0.2245, 0.101 , 0.15  ],\n",
              "       [0.35  , 0.265 , 0.09  , ..., 0.0995, 0.0485, 0.07  ],\n",
              "       [0.53  , 0.42  , 0.135 , ..., 0.2565, 0.1415, 0.21  ],\n",
              "       ...,\n",
              "       [0.6   , 0.475 , 0.205 , ..., 0.5255, 0.2875, 0.308 ],\n",
              "       [0.625 , 0.485 , 0.15  , ..., 0.531 , 0.261 , 0.296 ],\n",
              "       [0.71  , 0.555 , 0.195 , ..., 0.9455, 0.3765, 0.495 ]])"
            ]
          },
          "metadata": {},
          "execution_count": 7
        }
      ]
    },
    {
      "cell_type": "code",
      "source": [
        "y = df_features[\"Rings\"].to_numpy().astype('float')\n",
        "y"
      ],
      "metadata": {
        "colab": {
          "base_uri": "https://localhost:8080/"
        },
        "id": "civdBy_I8MbI",
        "outputId": "463c00b2-aced-470c-da6c-c70a9c64ee26"
      },
      "execution_count": 8,
      "outputs": [
        {
          "output_type": "execute_result",
          "data": {
            "text/plain": [
              "array([1., 0., 1., ..., 1., 1., 1.])"
            ]
          },
          "metadata": {},
          "execution_count": 8
        }
      ]
    },
    {
      "cell_type": "code",
      "source": [
        "train_features, train_labels, test_features, test_labels = model_selection.train_test_split(X, y, test_size=0.33, random_state=42)\n",
        "train_features"
      ],
      "metadata": {
        "colab": {
          "base_uri": "https://localhost:8080/"
        },
        "id": "JQJwrZyL9Kk5",
        "outputId": "0b9b8f33-d6af-461b-c935-0189925560fc"
      },
      "execution_count": 9,
      "outputs": [
        {
          "output_type": "execute_result",
          "data": {
            "text/plain": [
              "array([[0.525 , 0.38  , 0.135 , ..., 0.261 , 0.159 , 0.175 ],\n",
              "       [0.465 , 0.36  , 0.105 , ..., 0.172 , 0.107 , 0.175 ],\n",
              "       [0.52  , 0.425 , 0.155 , ..., 0.297 , 0.123 , 0.255 ],\n",
              "       ...,\n",
              "       [0.51  , 0.395 , 0.125 , ..., 0.244 , 0.1335, 0.188 ],\n",
              "       [0.575 , 0.465 , 0.12  , ..., 0.516 , 0.2185, 0.235 ],\n",
              "       [0.595 , 0.475 , 0.16  , ..., 0.547 , 0.231 , 0.271 ]])"
            ]
          },
          "metadata": {},
          "execution_count": 9
        }
      ]
    },
    {
      "cell_type": "markdown",
      "source": [
        "### d) Univariate Gaussian Classifier for each attribute\n",
        "**Atributtes:**\n",
        "- Length\n",
        "- Diameter \n",
        "- Height \n",
        "- Whole weight\n",
        "- Shucked weight\n",
        "- Viscera weight\n",
        "- Shell weight\n"
      ],
      "metadata": {
        "id": "nvmPoJ-1Z3Jw"
      }
    },
    {
      "cell_type": "code",
      "source": [
        "import numpy as np\n",
        "\n",
        "class GaussianNaiveBayes:\n",
        "    def __init__(self,attr):\n",
        "        self.attributes = attr\n",
        "        self.mean = None\n",
        "        self.variance = None\n",
        "        self.prior = None\n",
        "\n",
        "    def fit(self, X, y):\n",
        "      # It calculates the mean, variance, and prior of each class in the training \n",
        "      # data and stores them in the corresponding attributes of the classifier\n",
        "\n",
        "        \n",
        "        n_samples, n_features = X.shape\n",
        "        self.classes = np.unique(y)\n",
        "        n_classes = len(self.classes)\n",
        "\n",
        "        self.mean = np.zeros((n_classes, n_features))\n",
        "        self.variance = np.zeros((n_classes, n_features))\n",
        "        self.prior = np.zeros(n_classes)\n",
        "\n",
        "        for c in self.classes:\n",
        "            c=int(c)\n",
        "            X_c = X[c == y]\n",
        "            self.mean[c, :] = X_c.mean(axis=0)\n",
        "            self.variance[c, :] = X_c.var(axis=0)\n",
        "            self.prior[c] = X_c.shape[0] / float(n_samples)\n",
        "\n",
        "    def predict(self, X):\n",
        "      # makes predictions on the input data X using the classifier's mean, \n",
        "      # variance, and prior attributes. It calls the _predict method for\n",
        "      # each data point in X and returns an array of predicted labels\n",
        "\n",
        "        \n",
        "        y_pred = [self._predict(x) for x in X]\n",
        "        return np.array(y_pred)\n",
        "\n",
        "    def _predict(self, x):\n",
        "      # computes the posterior probability of each class for the input data point x \n",
        "      # and returns the class with the highest posterior probability as the predicted label. \n",
        "      # It uses the _pdf method to calculate the class conditional probability of x.\n",
        "        posteriors = []\n",
        "\n",
        "        for idx, c in enumerate(self.classes):\n",
        "            prior = np.log(self.prior[idx])\n",
        "            class_conditional = np.sum(np.log(self._pdf(idx, x)))\n",
        "            posterior = prior + class_conditional\n",
        "            posteriors.append(posterior)\n",
        "\n",
        "        return self.classes[np.argmax(posteriors)]\n",
        "\n",
        "    def _pdf(self, class_idx, x):\n",
        "        mean = self.mean[class_idx]\n",
        "        var = self.variance[class_idx]\n",
        "        numerator = np.exp(-(x - mean) ** 2 / (2 * var))\n",
        "        denominator = np.sqrt(2 * np.pi * var)\n",
        "        return numerator / denominator\n",
        "    \n",
        "    def __str__(self):\n",
        "      return f\"Atribute(s): {self.attributes} \\n Mean: {self.mean} \\n Variance: {self.variance}\"\n"
      ],
      "metadata": {
        "id": "uHjk1igo4Mvg"
      },
      "execution_count": 31,
      "outputs": []
    },
    {
      "cell_type": "code",
      "source": [
        "from sklearn.datasets import make_classification\n",
        "from sklearn.model_selection import train_test_split\n",
        "from sklearn.metrics import accuracy_score"
      ],
      "metadata": {
        "id": "T9EweIUF5CIE"
      },
      "execution_count": 13,
      "outputs": []
    },
    {
      "cell_type": "markdown",
      "source": [
        "#### Length"
      ],
      "metadata": {
        "id": "4in8YV8daoEo"
      }
    },
    {
      "cell_type": "code",
      "source": [
        "X_length = X[:,0].astype('float')\n",
        "X_length"
      ],
      "metadata": {
        "id": "23_o04I7BwS7",
        "colab": {
          "base_uri": "https://localhost:8080/"
        },
        "outputId": "77dc7a20-4737-4563-9b3c-1571c0cb0465"
      },
      "execution_count": 14,
      "outputs": [
        {
          "output_type": "execute_result",
          "data": {
            "text/plain": [
              "array([0.455, 0.35 , 0.53 , ..., 0.6  , 0.625, 0.71 ])"
            ]
          },
          "metadata": {},
          "execution_count": 14
        }
      ]
    },
    {
      "cell_type": "code",
      "source": [
        "X_train, X_test, y_train, y_test = model_selection.train_test_split(X_length, y, test_size=0.33, random_state=42)\n"
      ],
      "metadata": {
        "id": "13XfTUaiIRRX"
      },
      "execution_count": 15,
      "outputs": []
    },
    {
      "cell_type": "code",
      "source": [
        "X_train.reshape(-1, 1).shape"
      ],
      "metadata": {
        "colab": {
          "base_uri": "https://localhost:8080/"
        },
        "id": "bLpaUEQi5Ogf",
        "outputId": "26faa525-b423-4fe1-c9bb-6eb3b1d11601"
      },
      "execution_count": 19,
      "outputs": [
        {
          "output_type": "execute_result",
          "data": {
            "text/plain": [
              "(2798, 1)"
            ]
          },
          "metadata": {},
          "execution_count": 19
        }
      ]
    },
    {
      "cell_type": "code",
      "source": [
        "# Train the classifier\n",
        "clf = GaussianNaiveBayes(\"Length\")\n",
        "clf.fit(X_train.reshape(-1, 1), y_train)\n",
        "\n",
        "# Make predictions on the testing set\n",
        "y_pred = clf.predict(X_test.reshape(-1, 1))\n",
        "\n",
        "# Calculate the accuracy of the classifier\n",
        "accuracy = accuracy_score(y_test, y_pred)\n",
        "print(f\"Accuracy: {accuracy}\")"
      ],
      "metadata": {
        "id": "nUyUBEZYH-08",
        "colab": {
          "base_uri": "https://localhost:8080/"
        },
        "outputId": "47195339-0e17-4496-e38f-e582f7aef9ad"
      },
      "execution_count": 32,
      "outputs": [
        {
          "output_type": "stream",
          "name": "stdout",
          "text": [
            "Accuracy: 0.7897026831036983\n"
          ]
        }
      ]
    },
    {
      "cell_type": "code",
      "source": [
        "print(clf)"
      ],
      "metadata": {
        "colab": {
          "base_uri": "https://localhost:8080/"
        },
        "id": "Sw-hTEaE8cCn",
        "outputId": "ada85f55-8fb5-4fad-9b76-e2cb70e90995"
      },
      "execution_count": 34,
      "outputs": [
        {
          "output_type": "stream",
          "name": "stdout",
          "text": [
            "Atribute(s): Length \n",
            " Mean: [[0.42150108]\n",
            " [0.57775641]] \n",
            " Variance: [[0.01209354]\n",
            " [0.00734216]]\n"
          ]
        }
      ]
    },
    {
      "cell_type": "code",
      "source": [
        "accuracy = model.score(X_test.reshape(-1, 1), y_test)\n",
        "accuracy"
      ],
      "metadata": {
        "colab": {
          "base_uri": "https://localhost:8080/"
        },
        "id": "lT7njjmvKGEf",
        "outputId": "f4900db3-39aa-4a99-b097-d179419c504a"
      },
      "execution_count": null,
      "outputs": [
        {
          "output_type": "execute_result",
          "data": {
            "text/plain": [
              "0.7897026831036983"
            ]
          },
          "metadata": {},
          "execution_count": 15
        }
      ]
    }
  ]
}